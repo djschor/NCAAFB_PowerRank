{
 "cells": [
  {
   "cell_type": "code",
   "execution_count": 1,
   "metadata": {},
   "outputs": [],
   "source": [
    "import pandas as pd \n",
    "import numpy as np\n",
    "import os\n",
    "from functools import reduce\n",
    "from sklearn.preprocessing import MinMaxScaler\n",
    "# import utils as utils located as src/utils/utils.py\n",
    "from src.utils import utils, gcp_utils as gutils\n",
    "from src.api import data_requests as dr\n",
    "from src.processing import calculate_qb_metrics as cqm, calculate_defense_metrics as cdm, score_defense_metrics as sdm, score_qb_metrics as sqm\n",
    "from src.processing import score_qb_metrics as sqm\n",
    "from concurrent.futures import ThreadPoolExecutor, as_completed\n",
    "from retry import retry\n",
    "import functools\n",
    "from multiprocessing import Pool\n",
    "from google.cloud import firestore\n",
    "\n",
    "API_KEY = utils.read_api_key()\n",
    "import requests\n",
    "BASE_URL = \"https://api.collegefootballdata.com\"\n",
    "HEADERS = {\"Authorization\": f\"Bearer {API_KEY}\"}\n",
    "team = 'Michigan'\n",
    "year=2022\n"
   ]
  },
  {
   "cell_type": "code",
   "execution_count": 4,
   "metadata": {},
   "outputs": [],
   "source": [
    "def get_qb_by_name(qb_name, collection_name=\"qb_overall_rankings_2022\"):\n",
    "    \"\"\"\n",
    "    Queries Firestore collection \"qb_overall_rankings_2022\" and returns the quarterback with the specified name.\n",
    "\n",
    "    Args:\n",
    "        qb_name (str): The name of the quarterback to search for.\n",
    "        collection_name (str): The name of the Firestore collection containing the QB data.\n",
    "\n",
    "    Returns:\n",
    "        dict: Dictionary containing the QB data if found, or an error message if not found.\n",
    "    \"\"\"\n",
    "    try:\n",
    "        # Initialize Firestore client\n",
    "        db = gutils.get_firestore_client_db()\n",
    "\n",
    "        # Query the Firestore collection for the specified quarterback\n",
    "        query = db.collection(collection_name).where(\"player\", \"==\", qb_name).stream()\n",
    "\n",
    "        # Retrieve the document from the query\n",
    "        qb_data = [doc.to_dict() for doc in query]\n",
    "\n",
    "        # Check if the quarterback is found\n",
    "        if len(qb_data) == 0:\n",
    "            return {\"success\": False, \"errors\": [f\"No quarterback found with the name '{qb_name}'\"], \"data\": []}\n",
    "\n",
    "        return qb_data[0]\n",
    "\n",
    "    except Exception as e:\n",
    "        print(f\"Error fetching quarterback by name: {e}\")\n",
    "        return {\"success\": False, \"errors\": [f\"Error fetching quarterback by name: {e}\"], \"data\": []}\n"
   ]
  },
  {
   "cell_type": "code",
   "execution_count": 5,
   "metadata": {},
   "outputs": [
    {
     "data": {
      "text/plain": [
       "{'year': 2022,\n",
       " 'total_score_rank': 20.0,\n",
       " 'avg_qb_total_score': 82.15962102529328,\n",
       " 'player': 'Anthony Richardson',\n",
       " 'competitive_score_rank': 17.0,\n",
       " 'avg_qb_competitive_score': 80.67083018897867}"
      ]
     },
     "execution_count": 5,
     "metadata": {},
     "output_type": "execute_result"
    }
   ],
   "source": [
    "get_qb_by_name('Anthony Richardson')"
   ]
  },
  {
   "cell_type": "code",
   "execution_count": 6,
   "metadata": {},
   "outputs": [
    {
     "ename": "NameError",
     "evalue": "name 'qbs' is not defined",
     "output_type": "error",
     "traceback": [
      "\u001b[0;31m---------------------------------------------------------------------------\u001b[0m",
      "\u001b[0;31mNameError\u001b[0m                                 Traceback (most recent call last)",
      "Cell \u001b[0;32mIn[6], line 1\u001b[0m\n\u001b[0;32m----> 1\u001b[0m qbs\n",
      "\u001b[0;31mNameError\u001b[0m: name 'qbs' is not defined"
     ]
    }
   ],
   "source": [
    "qbs"
   ]
  },
  {
   "cell_type": "code",
   "execution_count": 7,
   "metadata": {},
   "outputs": [
    {
     "name": "stderr",
     "output_type": "stream",
     "text": [
      "/opt/homebrew/Caskroom/miniforge/base/envs/PowerRank/lib/python3.9/site-packages/google/cloud/firestore_v1/base_collection.py:290: UserWarning: Detected filter using positional arguments. Prefer using the 'filter' keyword argument instead.\n",
      "  return query.where(field_path, op_string, value)\n",
      "/Users/djschor/Projects/ncaafb_power_rank/src/internal_api/queries.py:122: UserWarning: Detected filter using positional arguments. Prefer using the 'filter' keyword argument instead.\n",
      "  query = collection_ref.where(u'player', '==', player_name).where(u'year', u'==', year)\n"
     ]
    },
    {
     "name": "stdout",
     "output_type": "stream",
     "text": [
      "Successfully queried qb_weekly_rankings_2022 for player Anthony Richardson and year 2022\n"
     ]
    }
   ],
   "source": [
    "# qbs = gutils.query_firestore_general('meta', 'qbs')\n",
    "from src.internal_api import queries as iq\n",
    "\n",
    "ar = iq.query_firestore_player_data('Anthony Richardson', year)"
   ]
  },
  {
   "cell_type": "code",
   "execution_count": 9,
   "metadata": {},
   "outputs": [
    {
     "name": "stdout",
     "output_type": "stream",
     "text": [
      "[{'aqs': 50.297619047619044, 'qpi_relative_rank': 6.0, 'ppi_relative_rank': 3.0, 'aqs_competitive_rank': 70.0, 'ppi_competitive_rank': 49.0, 'reer_competitive_rank': 35.0, 'adpsr': 8.823529411764707, 'ppi': 49.58027315144535, 'qb_total_rank': 430.0, 'adpsr_relative_rank': 4.0, 'aqs_relative_rank': 6.0, 'total_score_week_rank': 46.0, 'dmi_relative_rank': 10.0, 'sei_relative_rank': 4.0, 'qb_relative_score': 82.83492738262092, 'competitive_score_week_rank': 38.0, 'qb_total_score': 85.26650842380342, 'reer': 37.5, 'team': 'Florida', 'dmi': 78.94736842105263, 'crae_competitive_rank': 207.0, 'qb_competitive_score': 82.21352686238725, 'reer_relative_rank': 3.0, 'qpi': 196.42857142857142, 'sei_competitive_rank': 35.0, 'year': 2022, 'defense_score_competitive_rank': 54.0, 'dmi_competitive_rank': 74.0, 'week': 10, 'crae_relative_rank': 9.0, 'defense_score_relative_rank': 3.0, 'crae': -19.685847635292454, 'defense_score': 55.85457407288959, 'qpi_competitive_rank': 64.0, 'pk': 'Anthony Richardson_10_2022', 'adpsr_competitive_rank': 28.0, 'player': 'Anthony Richardson', 'sei': 766.6666666666667}, {'defense_score_relative_rank': 4.0, 'crae_competitive_rank': 227.0, 'reer': 33.33333333333333, 'year': 2022, 'qb_total_score': 80.89283281666376, 'aqs': 47.46376811594203, 'qb_competitive_score': 80.37007742963226, 'aqs_competitive_rank': 65.0, 'team': 'Florida', 'qpi_relative_rank': 11.0, 'crae_relative_rank': 8.0, 'dmi_relative_rank': 12.0, 'ppi': 45.67826751537143, 'sei_competitive_rank': 18.0, 'crae': -18.000726425852264, 'aqs_relative_rank': 8.0, 'week': 11, 'reer_competitive_rank': 46.0, 'qpi_competitive_rank': 114.0, 'reer_relative_rank': 7.0, 'total_score_week_rank': 77.0, 'defense_score': 54.61947841044724, 'ppi_relative_rank': 10.0, 'qb_relative_score': 78.41480570350281, 'qb_total_rank': 976.0, 'sei_relative_rank': 3.0, 'adpsr': 3.4482758620689653, 'sei': 981.8181818181819, 'competitive_score_week_rank': 70.0, 'dmi_competitive_rank': 116.0, 'adpsr_competitive_rank': 72.0, 'pk': 'Anthony Richardson_11_2022', 'qpi': 135.86956521739134, 'defense_score_competitive_rank': 26.0, 'player': 'Anthony Richardson', 'dmi': 57.14285714285714, 'ppi_competitive_rank': 121.0, 'adpsr_relative_rank': 9.0}]\n"
     ]
    }
   ],
   "source": [
    "given this array of objects called playerData that looks like this with player performance for each week of season \n",
    "[{'aqs': 50.297619047619044, 'qpi_relative_rank': 6.0, 'ppi_relative_rank': 3.0, 'aqs_competitive_rank': 70.0, 'ppi_competitive_rank': 49.0, 'reer_competitive_rank': 35.0, 'adpsr': 8.823529411764707, 'ppi': 49.58027315144535, 'qb_total_rank': 430.0, 'adpsr_relative_rank': 4.0, 'aqs_relative_rank': 6.0, 'total_score_week_rank': 46.0, 'dmi_relative_rank': 10.0, 'sei_relative_rank': 4.0, 'qb_relative_score': 82.83492738262092, 'competitive_score_week_rank': 38.0, 'qb_total_score': 85.26650842380342, 'reer': 37.5, 'team': 'Florida', 'dmi': 78.94736842105263, 'crae_competitive_rank': 207.0, 'qb_competitive_score': 82.21352686238725, 'reer_relative_rank': 3.0, 'qpi': 196.42857142857142, 'sei_competitive_rank': 35.0, 'year': 2022, 'defense_score_competitive_rank': 54.0, 'dmi_competitive_rank': 74.0, 'week': 10, 'crae_relative_rank': 9.0, 'defense_score_relative_rank': 3.0, 'crae': -19.685847635292454, 'defense_score': 55.85457407288959, 'qpi_competitive_rank': 64.0, 'pk': 'Anthony Richardson_10_2022', 'adpsr_competitive_rank': 28.0, 'player': 'Anthony Richardson', 'sei': 766.6666666666667}, {'defense_score_relative_rank': 4.0, 'crae_competitive_rank': 227.0, 'reer': 33.33333333333333, 'year': 2022, 'qb_total_score': 80.89283281666376, 'aqs': 47.46376811594203, 'qb_competitive_score': 80.37007742963226, 'aqs_competitive_rank': 65.0, 'team': 'Florida', 'qpi_relative_rank': 11.0, 'crae_relative_rank': 8.0, 'dmi_relative_rank': 12.0, 'ppi': 45.67826751537143, 'sei_competitive_rank': 18.0, 'crae': -18.000726425852264, 'aqs_relative_rank': 8.0, 'week': 11, 'reer_competitive_rank': 46.0, 'qpi_competitive_rank': 114.0, 'reer_relative_rank': 7.0, 'total_score_week_rank': 77.0, 'defense_score': 54.61947841044724, 'ppi_relative_rank': 10.0, 'qb_relative_score': 78.41480570350281, 'qb_total_rank': 976.0, 'sei_relative_rank': 3.0, 'adpsr': 3.4482758620689653, 'sei': 981.8181818181819, 'competitive_score_week_rank': 70.0, 'dmi_competitive_rank': 116.0, 'adpsr_competitive_rank': 72.0, 'pk': 'Anthony Richardson_11_2022', 'qpi': 135.86956521739134, 'defense_score_competitive_rank': 26.0, 'player': 'Anthony Richardson', 'dmi': 57.14285714285714, 'ppi_competitive_rank': 121.0, 'adpsr_relative_rank': 9.0}, ...]\n",
    "give me a react typescript function that given one of the keys as input (i.e, aqs_competitive_rank), returns a list of those values for each week of the input array "
   ]
  },
  {
   "cell_type": "code",
   "execution_count": 1,
   "metadata": {},
   "outputs": [
    {
     "ename": "ModuleNotFoundError",
     "evalue": "No module named 'flask_sqlalchemy'",
     "output_type": "error",
     "traceback": [
      "\u001b[0;31m---------------------------------------------------------------------------\u001b[0m",
      "\u001b[0;31mModuleNotFoundError\u001b[0m                       Traceback (most recent call last)",
      "Cell \u001b[0;32mIn[1], line 2\u001b[0m\n\u001b[1;32m      1\u001b[0m \u001b[39m# import queries \u001b[39;00m\n\u001b[0;32m----> 2\u001b[0m \u001b[39mfrom\u001b[39;00m \u001b[39msrc\u001b[39;00m\u001b[39m.\u001b[39;00m\u001b[39minternal_api\u001b[39;00m \u001b[39mimport\u001b[39;00m queries \u001b[39mas\u001b[39;00m iq\n\u001b[1;32m      3\u001b[0m iq\u001b[39m.\u001b[39mquery_firestore_player_data(\u001b[39m'\u001b[39m\u001b[39m'\u001b[39m, \u001b[39m'\u001b[39m\u001b[39m'\u001b[39m, \u001b[39m'\u001b[39m\u001b[39mAnthony Richardson\u001b[39m\u001b[39m'\u001b[39m, \u001b[39m2022\u001b[39m)\n",
      "File \u001b[0;32m~/Projects/ncaafb_power_rank/src/internal_api/__init__.py:3\u001b[0m\n\u001b[1;32m      1\u001b[0m \u001b[39mimport\u001b[39;00m \u001b[39mos\u001b[39;00m\n\u001b[1;32m      2\u001b[0m \u001b[39mfrom\u001b[39;00m \u001b[39mflask\u001b[39;00m \u001b[39mimport\u001b[39;00m Flask\n\u001b[0;32m----> 3\u001b[0m \u001b[39mfrom\u001b[39;00m \u001b[39mflask_sqlalchemy\u001b[39;00m \u001b[39mimport\u001b[39;00m SQLAlchemy\n\u001b[1;32m      5\u001b[0m app \u001b[39m=\u001b[39m Flask(\u001b[39m__name__\u001b[39m)\n\u001b[1;32m      6\u001b[0m app\u001b[39m.\u001b[39mconfig[\u001b[39m\"\u001b[39m\u001b[39mSQLALCHEMY_DATABASE_URI\u001b[39m\u001b[39m\"\u001b[39m] \u001b[39m=\u001b[39m \u001b[39mf\u001b[39m\u001b[39m\"\u001b[39m\u001b[39msqlite:///\u001b[39m\u001b[39m{\u001b[39;00mos\u001b[39m.\u001b[39mgetcwd()\u001b[39m}\u001b[39;00m\u001b[39m/todo.db\u001b[39m\u001b[39m\"\u001b[39m\n",
      "\u001b[0;31mModuleNotFoundError\u001b[0m: No module named 'flask_sqlalchemy'"
     ]
    }
   ],
   "source": [
    "# import queries \n",
    "from src.internal_api import queries as iq\n",
    "iq.query_firestore_player_data('', '', 'Anthony Richardson', 2022)"
   ]
  },
  {
   "cell_type": "code",
   "execution_count": null,
   "metadata": {},
   "outputs": [],
   "source": [
    "    gutils.save_data_to_firestore_id({'qbs': qb_names}, gutils.get_firestore_client_db(), 'meta', 'qbs')\n"
   ]
  },
  {
   "cell_type": "code",
   "execution_count": null,
   "metadata": {},
   "outputs": [],
   "source": [
    "def get_top_qbs_by_week(week, top_x):\n",
    "    collection_name = \"qb_weekly_rankings_2022\"\n",
    "\n",
    "    # Initialize Firestore client\n",
    "    db = gutils.get_firestore_client_db()\n",
    "\n",
    "    # Query the Firestore collection for documents with the specified week and order by qb_total_score\n",
    "    query = db.collection(collection_name).where(\"week\", \"==\", week).order_by(\"qb_total_score\", direction=firestore.Query.DESCENDING).limit(top_x).stream()\n",
    "\n",
    "    # Retrieve all documents from the query\n",
    "    top_qbs = [doc.to_dict() for doc in query]\n",
    "\n",
    "    return top_qbs\n",
    "\n",
    "def get_top_qbs_overall(top_x, field='avg_qb_total_score'):\n",
    "    if field not in {'avg_qb_competitive_score', 'avg_qb_total_score', 'competitive_score_rank', 'total_score_rank'}:\n",
    "        raise ValueError(\"Invalid field. Valid fields are: 'avg_qb_competitive_score', 'avg_qb_total_score', 'competitive_score_rank', and 'total_score_rank'.\")\n",
    "\n",
    "    collection_name = \"qb_overall_rankings_2022\"\n",
    "\n",
    "    # Initialize Firestore client\n",
    "    db = gutils.get_firestore_client_db()\n",
    "\n",
    "    # Query the Firestore collection, order by the specified field, and limit the results to top X\n",
    "    query = db.collection(collection_name).order_by(field, direction=firestore.Query.DESCENDING if field.startswith('avg_') else firestore.Query.ASCENDING).limit(top_x).stream()\n",
    "\n",
    "    # Retrieve all documents from the query\n",
    "    top_qbs = [doc.to_dict() for doc in query]\n",
    "\n",
    "    return top_qbs"
   ]
  },
  {
   "cell_type": "code",
   "execution_count": null,
   "metadata": {},
   "outputs": [],
   "source": [
    "from ariadne import load_schema_from_path, make_executable_schema, \\\n",
    "    graphql_sync, snake_case_fallback_resolvers, ObjectType\n",
    "from ariadne.constants import PLAYGROUND_HTML\n",
    "from flask import request, jsonify\n",
    "import pandas as pd \n",
    "import numpy as np\n",
    "import os\n",
    "from functools import reduce\n",
    "from sklearn.preprocessing import MinMaxScaler\n",
    "from concurrent.futures import ThreadPoolExecutor, as_completed\n",
    "from retry import retry\n",
    "import functools\n",
    "from multiprocessing import Pool\n",
    "from google.cloud import firestore"
   ]
  },
  {
   "cell_type": "code",
   "execution_count": 23,
   "metadata": {},
   "outputs": [],
   "source": [
    "def query_firestore_player_data(player_name, year):\n",
    "    \"\"\"\n",
    "    Queries the 'qb_weekly_rankings_2022' collection in Firestore to get quarterback weekly performance data\n",
    "    for the specified player name and year.\n",
    "\n",
    "    Args:\n",
    "        player_name (str): The name of the quarterback.\n",
    "        year (int): The year of the quarterback's performance data.\n",
    "\n",
    "    Returns:\n",
    "        list: A list of dictionaries representing the documents with the specified player name and year if any exist, None otherwise.\n",
    "    \"\"\"\n",
    "    try:\n",
    "        collection_name = 'qb_weekly_rankings_2022'\n",
    "\n",
    "        # Initialize Firestore client\n",
    "        db = gutils.get_firestore_client_db()\n",
    "\n",
    "        # Get the collection reference\n",
    "        collection_ref = db.collection(collection_name)\n",
    "\n",
    "        # Query the collection for documents with the specified player name and year\n",
    "        query = collection_ref.where('player', '==', player_name).where('year', '==', year)\n",
    "        docs = query.stream()\n",
    "\n",
    "        results = []\n",
    "        for doc in docs:\n",
    "            if doc.exists:\n",
    "                results.append(doc.to_dict())\n",
    "\n",
    "        if not results:\n",
    "            print(f\"No documents found in {collection_name} for player {player_name} and year {year}\")\n",
    "            return None\n",
    "\n",
    "        return results\n",
    "\n",
    "    except Exception as e:\n",
    "        print(f\"Error querying {collection_name} for player {player_name} and year {year}: {e}\")\n",
    "        return None\n"
   ]
  },
  {
   "cell_type": "code",
   "execution_count": 25,
   "metadata": {},
   "outputs": [
    {
     "data": {
      "text/plain": [
       "dict_keys(['sei', 'reer_competitive_rank', 'year', 'qb_total_score', 'qb_relative_score', 'ppi', 'ppi_competitive_rank', 'dmi', 'reer', 'pk', 'qb_total_rank', 'adpsr', 'defense_score_competitive_rank', 'ppi_relative_rank', 'team', 'dmi_competitive_rank', 'adpsr_relative_rank', 'player', 'crae', 'qpi', 'total_score_week_rank', 'crae_relative_rank', 'aqs_relative_rank', 'dmi_relative_rank', 'competitive_score_week_rank', 'defense_score', 'qpi_relative_rank', 'week', 'qpi_competitive_rank', 'crae_competitive_rank', 'sei_relative_rank', 'adpsr_competitive_rank', 'sei_competitive_rank', 'qb_competitive_score', 'defense_score_relative_rank', 'aqs', 'reer_relative_rank', 'aqs_competitive_rank'])"
      ]
     },
     "execution_count": 25,
     "metadata": {},
     "output_type": "execute_result"
    }
   ],
   "source": [
    "query_firestore_player_data('Cade McNamara', 2022)[0].keys()"
   ]
  },
  {
   "cell_type": "code",
   "execution_count": null,
   "metadata": {},
   "outputs": [],
   "source": [
    "week = 3\n",
    "print('J.J. McCarthy', week, year)\n",
    "player='J.J. McCarthy'\n",
    "plays = dr.get_plays(year=year, team=team, week=week)\n",
    "player_plays = plays[plays.play_text.str.contains(player, na=False)]\n",
    "player_plays = player_plays[player_plays.offense==team]\n",
    "opponent_team = player_plays.iloc[0]['defense']\n"
   ]
  },
  {
   "cell_type": "code",
   "execution_count": null,
   "metadata": {},
   "outputs": [],
   "source": [
    "defense_df = pd.read_csv('/Users/djschor/Projects/ncaafb_power_rank/data/defense_2022/defense_2022.csv')"
   ]
  },
  {
   "cell_type": "code",
   "execution_count": null,
   "metadata": {},
   "outputs": [],
   "source": [
    "# cqm.pressure_performance_index(player_plays)"
   ]
  },
  {
   "cell_type": "code",
   "execution_count": null,
   "metadata": {},
   "outputs": [],
   "source": [
    "\n",
    "# PART 2 _______________________________\n",
    "# gutils.batch_save_data_firestore(competitive_qb_metrics_df, \"qb\", 'pk')\n",
    "\n",
    "# print(\"Saved QB performance metrics to GCP.\")\n"
   ]
  },
  {
   "cell_type": "code",
   "execution_count": null,
   "metadata": {},
   "outputs": [],
   "source": [
    "# sqm.calculate_qb_performance_metrics_save_gcp(2022)"
   ]
  },
  {
   "cell_type": "code",
   "execution_count": null,
   "metadata": {},
   "outputs": [],
   "source": [
    "# get plays \n",
    "for week in range(1, 14):\n",
    "    try:\n",
    "        plays = dr.get_plays(year=year, team='Ohio State', week=week)\n",
    "        player_plays = plays[plays.play_text.str.contains('C.J. Stroud', na=False)]\n",
    "        player_plays = player_plays[player_plays.offense=='Ohio State']\n",
    "        adpsr = cqm.pocket_presence_index(player_plays)\n",
    "        print(adpsr)\n",
    "    except: \n",
    "        print(\" \")"
   ]
  },
  {
   "cell_type": "code",
   "execution_count": null,
   "metadata": {},
   "outputs": [],
   "source": [
    "# function to get the week number given the team and opponent\n",
    "def get_week_number(team, opponent_team, year):\n",
    "    games = dr.get_games(year=year, team=team)\n",
    "    week = games[(games.home_team == opponent_team) | (games.away_team == opponent_team)].week.max()\n",
    "    return week\n",
    "\n",
    "get_week_number('Tennessee', 'Alabama', year)"
   ]
  },
  {
   "cell_type": "code",
   "execution_count": null,
   "metadata": {},
   "outputs": [],
   "source": [
    "player_plays['year'] = year"
   ]
  },
  {
   "cell_type": "code",
   "execution_count": null,
   "metadata": {},
   "outputs": [],
   "source": [
    "team_roster = dr.get_team_rosters('Michigan', year)\n",
    "qb_roster = team_roster[team_roster['position'] == 'QB']\n",
    "\n",
    "if not qb_roster.empty:\n",
    "    # Get player usage data for the QBs\n",
    "    qb_usages = dr.get_player_usage(year, team='Michigan', position='QB')\n",
    "    qb_usages = qb_usages[qb_usages['id'].isin(qb_roster['id'])].sort_values(by='usage_overall', ascending=False).head(2)\n"
   ]
  },
  {
   "cell_type": "code",
   "execution_count": null,
   "metadata": {},
   "outputs": [],
   "source": [
    "games = dr.get_games(year=year, team='Arizona State')"
   ]
  },
  {
   "cell_type": "code",
   "execution_count": null,
   "metadata": {},
   "outputs": [],
   "source": [
    "from concurrent.futures import ThreadPoolExecutor, as_completed\n",
    "\n",
    "year = 2022\n",
    "print(f\"Calculating QB performance metrics for {year}...\")\n",
    "\n",
    "# Get all FBS teams\n",
    "fbs_teams = dr.get_fbs_teams(season=year)\n",
    "team_names = ['Michigan']\n"
   ]
  },
  {
   "cell_type": "code",
   "execution_count": null,
   "metadata": {},
   "outputs": [],
   "source": [
    "\n",
    "def process_team_qb_data(team_name):\n",
    "    print(f\"Processing {team_name} QB data...\")\n",
    "    # Fetch team rosters and find the quarterbacks\n",
    "    team_roster = dr.read_team_roster_csv(team_name, year)\n",
    "    qb_roster = team_roster[team_roster['position'] == 'QB']\n",
    "    if not qb_roster.empty:\n",
    "        # Get player usage data for the QBs\n",
    "        qb_usages = dr.read_qb_usage_csv(team_name)\n",
    "        starting_qbs = qb_usages[qb_usages['id'].isin(qb_roster['id'])].sort_values(by='usage_overall', ascending=False).head(2)\n",
    "\n",
    "        # Determine the starting quarterback(s)\n",
    "        if starting_qbs.empty:\n",
    "            # No dominant starter, get first and second string QBs by usage\n",
    "            starting_qbs = qb_usages.nlargest(1, 'usage_overall')\n",
    "        qb_data = []\n",
    "        for _, starting_qb in starting_qbs.iterrows():\n",
    "            if starting_qb['name'] is not None and starting_qb['team'] is not None:\n",
    "                qb_name = starting_qb['name']\n",
    "                qb_team = starting_qb['team']\n",
    "                qb_df = sqm.get_qb_game_metrics_all_games(qb_name, qb_team, year).fillna(0)\n",
    "                qb_df.to_csv('/Users/djschor/Projects/ncaafb_power_rank/data/qb_performance_2022/' + qb_name + '.csv')\n",
    "                qb_data.append(qb_df)\n",
    "        print(f\"Completed {team_name} QB data\")\n",
    "        return pd.concat(qb_data, ignore_index=True) if qb_data else None\n",
    "    else:\n",
    "        return pd.DataFrame()\n",
    "\n",
    "process_team_qb_data('Michigan')"
   ]
  },
  {
   "cell_type": "code",
   "execution_count": 28,
   "metadata": {},
   "outputs": [
    {
     "data": {
      "text/plain": [
       "[{'sei': 650.0,\n",
       "  'reer_competitive_rank': 13.0,\n",
       "  'year': 2022,\n",
       "  'qb_total_score': 93.775774266017,\n",
       "  'qb_relative_score': 93.80755114948556,\n",
       "  'ppi': 50.24939211370077,\n",
       "  'ppi_competitive_rank': 27.0,\n",
       "  'dmi': 75.0,\n",
       "  'reer': 100.0,\n",
       "  'pk': 'Austin Aune_5_2022',\n",
       "  'qb_total_rank': 25.0,\n",
       "  'adpsr': 12.5,\n",
       "  'defense_score_competitive_rank': 8.0,\n",
       "  'ppi_relative_rank': 2.0,\n",
       "  'team': 'North Texas',\n",
       "  'dmi_competitive_rank': 96.0,\n",
       "  'adpsr_relative_rank': 1.0,\n",
       "  'player': 'Austin Aune',\n",
       "  'crae': -25.36496673523676,\n",
       "  'qpi': 259.2105263157894,\n",
       "  'total_score_week_rank': 1.0,\n",
       "  'crae_relative_rank': 8.0,\n",
       "  'aqs_relative_rank': 10.0,\n",
       "  'dmi_relative_rank': 11.0,\n",
       "  'competitive_score_week_rank': 2.0,\n",
       "  'defense_score': 61.30449486998842,\n",
       "  'qpi_relative_rank': 4.0,\n",
       "  'week': 5,\n",
       "  'qpi_competitive_rank': 29.0,\n",
       "  'crae_competitive_rank': 221.0,\n",
       "  'sei_relative_rank': 2.0,\n",
       "  'adpsr_competitive_rank': 15.0,\n",
       "  'sei_competitive_rank': 45.0,\n",
       "  'qb_competitive_score': 85.53640971541428,\n",
       "  'defense_score_relative_rank': 4.0,\n",
       "  'aqs': 47.36842105263158,\n",
       "  'reer_relative_rank': 2.0,\n",
       "  'aqs_competitive_rank': 76.0},\n",
       " {'sei': 1566.6666666666665,\n",
       "  'reer_competitive_rank': 13.0,\n",
       "  'year': 2022,\n",
       "  'qb_total_score': 92.80939879534968,\n",
       "  'qb_relative_score': 88.27416112405952,\n",
       "  'ppi': 50.933349855671004,\n",
       "  'ppi_competitive_rank': 17.0,\n",
       "  'dmi': 100.0,\n",
       "  'reer': 100.0,\n",
       "  'pk': 'Max Duggan_5_2022',\n",
       "  'qb_total_rank': 37.0,\n",
       "  'adpsr': 2.631578947368421,\n",
       "  'defense_score_competitive_rank': 106.0,\n",
       "  'ppi_relative_rank': 1.0,\n",
       "  'team': 'TCU',\n",
       "  'dmi_competitive_rank': 37.0,\n",
       "  'adpsr_relative_rank': 13.0,\n",
       "  'player': 'Max Duggan',\n",
       "  'crae': -0.9022687472773017,\n",
       "  'qpi': 248.48484848484853,\n",
       "  'total_score_week_rank': 2.0,\n",
       "  'crae_relative_rank': 4.0,\n",
       "  'aqs_relative_rank': 8.0,\n",
       "  'dmi_relative_rank': 4.0,\n",
       "  'competitive_score_week_rank': 1.0,\n",
       "  'defense_score': 49.16970594776157,\n",
       "  'qpi_relative_rank': 7.0,\n",
       "  'week': 5,\n",
       "  'qpi_competitive_rank': 34.0,\n",
       "  'crae_competitive_rank': 170.0,\n",
       "  'sei_relative_rank': 1.0,\n",
       "  'adpsr_competitive_rank': 88.0,\n",
       "  'sei_competitive_rank': 7.0,\n",
       "  'qb_competitive_score': 85.63540036721042,\n",
       "  'defense_score_relative_rank': 8.0,\n",
       "  'aqs': 53.03030303030303,\n",
       "  'reer_relative_rank': 1.0,\n",
       "  'aqs_competitive_rank': 52.0},\n",
       " {'sei': 400.0,\n",
       "  'reer_competitive_rank': 13.0,\n",
       "  'year': 2022,\n",
       "  'qb_total_score': 92.01116191852826,\n",
       "  'qb_relative_score': 87.14572752472652,\n",
       "  'ppi': 52.815984031061156,\n",
       "  'ppi_competitive_rank': 7.0,\n",
       "  'dmi': 100.0,\n",
       "  'reer': 100.0,\n",
       "  'pk': 'Matt McDonald_5_2022',\n",
       "  'qb_total_rank': 52.0,\n",
       "  'adpsr': 0.0,\n",
       "  'defense_score_competitive_rank': 119.0,\n",
       "  'ppi_relative_rank': 1.0,\n",
       "  'team': 'Bowling Green',\n",
       "  'dmi_competitive_rank': 37.0,\n",
       "  'adpsr_relative_rank': 12.0,\n",
       "  'player': 'Matt McDonald',\n",
       "  'crae': -14.28571428571429,\n",
       "  'qpi': 275.0,\n",
       "  'total_score_week_rank': 3.0,\n",
       "  'crae_relative_rank': 9.0,\n",
       "  'aqs_relative_rank': 1.0,\n",
       "  'dmi_relative_rank': 2.0,\n",
       "  'competitive_score_week_rank': 3.0,\n",
       "  'defense_score': 47.98060983941903,\n",
       "  'qpi_relative_rank': 3.0,\n",
       "  'week': 5,\n",
       "  'qpi_competitive_rank': 23.0,\n",
       "  'crae_competitive_rank': 198.0,\n",
       "  'sei_relative_rank': 5.0,\n",
       "  'adpsr_competitive_rank': 230.0,\n",
       "  'sei_competitive_rank': 84.0,\n",
       "  'qb_competitive_score': 85.33470018477925,\n",
       "  'defense_score_relative_rank': 8.0,\n",
       "  'aqs': 76.78571428571429,\n",
       "  'reer_relative_rank': 2.0,\n",
       "  'aqs_competitive_rank': 3.0},\n",
       " {'sei': 433.3333333333333,\n",
       "  'reer_competitive_rank': 13.0,\n",
       "  'year': 2022,\n",
       "  'qb_total_score': 91.41130689735029,\n",
       "  'qb_relative_score': 88.370980456805,\n",
       "  'ppi': 50.57096823009646,\n",
       "  'ppi_competitive_rank': 20.0,\n",
       "  'dmi': 100.0,\n",
       "  'reer': 100.0,\n",
       "  'pk': 'Sean Clifford_5_2022',\n",
       "  'qb_total_rank': 61.0,\n",
       "  'adpsr': 3.846153846153846,\n",
       "  'defense_score_competitive_rank': 82.0,\n",
       "  'ppi_relative_rank': 5.0,\n",
       "  'team': 'Penn State',\n",
       "  'dmi_competitive_rank': 37.0,\n",
       "  'adpsr_relative_rank': 9.0,\n",
       "  'player': 'Sean Clifford',\n",
       "  'crae': -12.962898275956924,\n",
       "  'qpi': 198.68421052631578,\n",
       "  'total_score_week_rank': 4.0,\n",
       "  'crae_relative_rank': 9.0,\n",
       "  'aqs_relative_rank': 3.0,\n",
       "  'dmi_relative_rank': 5.0,\n",
       "  'competitive_score_week_rank': 4.0,\n",
       "  'defense_score': 51.33282857683457,\n",
       "  'qpi_relative_rank': 8.0,\n",
       "  'week': 5,\n",
       "  'qpi_competitive_rank': 65.0,\n",
       "  'crae_competitive_rank': 195.0,\n",
       "  'sei_relative_rank': 5.0,\n",
       "  'adpsr_competitive_rank': 73.0,\n",
       "  'sei_competitive_rank': 78.0,\n",
       "  'qb_competitive_score': 84.87837124863088,\n",
       "  'defense_score_relative_rank': 8.0,\n",
       "  'aqs': 64.47368421052632,\n",
       "  'reer_relative_rank': 2.0,\n",
       "  'aqs_competitive_rank': 24.0},\n",
       " {'sei': 1350.0,\n",
       "  'reer_competitive_rank': 18.0,\n",
       "  'year': 2022,\n",
       "  'qb_total_score': 91.25370533300348,\n",
       "  'qb_relative_score': 91.2431450171803,\n",
       "  'ppi': 49.9480078539454,\n",
       "  'ppi_competitive_rank': 34.0,\n",
       "  'dmi': 82.6086956521739,\n",
       "  'reer': 66.66666666666666,\n",
       "  'pk': 'Hudson Card_5_2022',\n",
       "  'qb_total_rank': 65.0,\n",
       "  'adpsr': 15.625,\n",
       "  'defense_score_competitive_rank': 21.0,\n",
       "  'ppi_relative_rank': 3.0,\n",
       "  'team': 'Texas',\n",
       "  'dmi_competitive_rank': 70.0,\n",
       "  'adpsr_relative_rank': 1.0,\n",
       "  'player': 'Hudson Card',\n",
       "  'crae': -12.476271903751623,\n",
       "  'qpi': 322.22222222222223,\n",
       "  'total_score_week_rank': 5.0,\n",
       "  'crae_relative_rank': 12.0,\n",
       "  'aqs_relative_rank': 4.0,\n",
       "  'dmi_relative_rank': 3.0,\n",
       "  'competitive_score_week_rank': 7.0,\n",
       "  'defense_score': 58.20281714835403,\n",
       "  'qpi_relative_rank': 1.0,\n",
       "  'week': 5,\n",
       "  'qpi_competitive_rank': 11.0,\n",
       "  'crae_competitive_rank': 193.0,\n",
       "  'sei_relative_rank': 2.0,\n",
       "  'adpsr_competitive_rank': 3.0,\n",
       "  'sei_competitive_rank': 13.0,\n",
       "  'qb_competitive_score': 84.47511752430364,\n",
       "  'defense_score_relative_rank': 3.0,\n",
       "  'aqs': 22.22222222222222,\n",
       "  'reer_relative_rank': 1.0,\n",
       "  'aqs_competitive_rank': 122.0}]"
      ]
     },
     "execution_count": 28,
     "metadata": {},
     "output_type": "execute_result"
    }
   ],
   "source": [
    "\n",
    "def get_top_qbs_overall(top_x, field='avg_qb_total_score'):\n",
    "    \"\"\"\n",
    "    Queries Firestore collection \"qb_overall_rankings_2022\" and returns the top X QBs based on the specified field.\n",
    "\n",
    "    Args:\n",
    "        top_x (int): The number of top QBs to return.\n",
    "        field (str): The field name to sort the QBs by (e.g., 'avg_qb_competitive_score', 'avg_qb_total_score', 'competitive_score_rank', or 'total_score_rank').\n",
    "\n",
    "    Returns:\n",
    "        List[dict]: List of dictionaries containing top X QBs data.\n",
    "    \"\"\"\n",
    "    if field not in {'avg_qb_competitive_score', 'avg_qb_total_score', 'competitive_score_rank', 'total_score_rank'}:\n",
    "        raise ValueError(\"Invalid field. Valid fields are: 'avg_qb_competitive_score', 'avg_qb_total_score', 'competitive_score_rank', and 'total_score_rank'.\")\n",
    "\n",
    "    collection_name = \"qb_overall_rankings_2022\"\n",
    "\n",
    "    # Initialize Firestore client\n",
    "    db = gutils.get_firestore_client_db()\n",
    "\n",
    "    # Query the Firestore collection, order by the specified field, and limit the results to top X\n",
    "    query = db.collection(collection_name).order_by(field, direction=firestore.Query.DESCENDING if field.startswith('avg_') else firestore.Query.ASCENDING).limit(top_x).stream()\n",
    "\n",
    "    # Retrieve all documents from the query\n",
    "    top_qbs = [doc.to_dict() for doc in query]\n",
    "\n",
    "    return top_qbs\n",
    "\n",
    "def get_top_qbs_by_week(week, top_x):\n",
    "    \"\"\"\n",
    "    Queries Firestore collection \"qb_weekly_rankings_2022\" and returns the top X QBs by week.\n",
    "    \n",
    "    Args:\n",
    "        week (int): The week number to filter results.\n",
    "        top_x (int): The number of top QBs to return.\n",
    "\n",
    "    Returns:\n",
    "        List[dict]: List of dictionaries containing top X QBs data.\n",
    "    \"\"\"\n",
    "    collection_name = \"qb_weekly_rankings_2022\"\n",
    "\n",
    "    # Initialize Firestore client\n",
    "    db = gutils.get_firestore_client_db()\n",
    "\n",
    "    # Query the Firestore collection for documents with the specified week and order by qb_total_score\n",
    "    query = db.collection(collection_name).where(\"week\", \"==\", week).order_by(\"qb_total_score\", direction=firestore.Query.DESCENDING).limit(top_x).stream()\n",
    "\n",
    "    # Retrieve all documents from the query\n",
    "    top_qbs = [doc.to_dict() for doc in query]\n",
    "\n",
    "    return top_qbs\n",
    "\n",
    "get_top_qbs_by_week(5, 5)"
   ]
  },
  {
   "cell_type": "code",
   "execution_count": null,
   "metadata": {},
   "outputs": [],
   "source": [
    "\n",
    "def read_plays_csv(team, week):\n",
    "    file_path = '/Users/djschor/Projects/ncaafb_power_rank/data/plays_2022/'\n",
    "    file_name = f\"{team}_{week}.csv\"\n",
    "    full_path = os.path.join(file_path, file_name)\n",
    "    \n",
    "    try:\n",
    "        plays_df = pd.read_csv(full_path)\n",
    "        return plays_df\n",
    "    except FileNotFoundError as e:\n",
    "        print(f\"File not found: {e}\")\n",
    "        return None\n",
    "    except Exception as e:\n",
    "        print(f\"Error reading CSV: {e}\")\n",
    "        return None\n",
    "\n",
    "def get_qb_game_metrics(player, team, week, year): \n",
    "    print(player, week, year)\n",
    "    try:\n",
    "        plays = read_plays_csv(team=team, week=week)#.drop(columns=['Unnamed: 0'])\n",
    "        if 'play_text' in plays.columns:\n",
    "            print('Getting play text')\n",
    "            player_plays = plays[plays.play_text.str.contains(player, na=False)]\n",
    "            player_plays = player_plays[player_plays.offense==team]\n",
    "\n",
    "            if player_plays.empty:\n",
    "                # Return a DataFrame with null values\n",
    "                print('No plays for {} in week {} of {}'.format(player, week, year))\n",
    "                return pd.DataFrame([[player, team, week, year, None, None, None, None, None, None, None, None, None]], columns=['player', 'team', 'week', 'year', 'aqs', 'qpi', 'sei', 'crae', 'dmi', 'ppi', 'adpsr', 'reer', 'defense_score'])\n",
    "\n",
    "            # Get the opponent team\n",
    "            opponent_team = player_plays.iloc[0]['defense']\n",
    "\n",
    "            print('Getting defense')\n",
    "            # Get the average defense_total_score of the opponent for weeks before the current week\n",
    "            average_defense_score = sqm.get_opponent_defense_metrics(opponent_team, week, year)\n",
    "\n",
    "\n",
    "            aqs = cqm.adaptive_quarterback_score(player_plays)\n",
    "            qpi = cqm.quarterback_passing_index(player_plays)\n",
    "            sei = cqm.scramble_efficiency_index(player_plays)\n",
    "            crae = cqm.completion_rate_above_expected(player_plays)\n",
    "            dmi = cqm.decision_making_index(player_plays)\n",
    "            print('Getting PPI')\n",
    "            ppi = cqm.pressure_performance_index(player_plays)\n",
    "            adpsr = cqm.adjusted_deep_pass_success_rate(player_plays)\n",
    "            reer = cqm.red_zone_efficiency_rating(player_plays)\n",
    "            df = pd.DataFrame([[player, team, week, year, aqs, qpi, sei, crae, dmi, ppi, adpsr, reer, average_defense_score]], columns=['player', 'team', 'week', 'year', 'aqs', 'qpi', 'sei', 'crae', 'dmi', 'ppi', 'adpsr', 'reer', 'defense_score'])\n",
    "        else:\n",
    "            df = pd.DataFrame([[player, team, week, year, None, None, None, None, None, None, None, None, None]], columns=['player', 'team', 'week', 'year', 'aqs', 'qpi', 'sei', 'crae', 'dmi', 'ppi', 'adpsr', 'reer', 'defense_score'])\n",
    "    except ValueError as e: \n",
    "        print('Error in QB Game Metrics: ', e)\n",
    "        df = pd.DataFrame([[player, team, week, year, None, None, None, None, None, None, None, None, None]], columns=['player', 'team', 'week', 'year', 'aqs', 'qpi', 'sei', 'crae', 'dmi', 'ppi', 'adpsr', 'reer', 'defense_score'])\n",
    "    return df "
   ]
  },
  {
   "cell_type": "code",
   "execution_count": null,
   "metadata": {},
   "outputs": [],
   "source": [
    "def read_plays_csv(team, week):\n",
    "    file_path = '/Users/djschor/Projects/ncaafb_power_rank/data/plays_2022/'\n",
    "    file_name = f\"{team}_{week}.csv\"\n",
    "    full_path = os.path.join(file_path, file_name)\n",
    "    \n",
    "    try:\n",
    "        plays_df = pd.read_csv(full_path)\n",
    "        return plays_df\n",
    "    except FileNotFoundError as e:\n",
    "        print(f\"File not found: {e}\")\n",
    "        return None\n",
    "    except Exception as e:\n",
    "        print(f\"Error reading CSV: {e}\")\n",
    "        return None\n",
    "read_plays_csv(team, 1).columns"
   ]
  },
  {
   "cell_type": "code",
   "execution_count": null,
   "metadata": {},
   "outputs": [],
   "source": [
    "get_qb_game_metrics('C.J. Stroud', 'Ohio State', 2, 2022)"
   ]
  },
  {
   "cell_type": "code",
   "execution_count": null,
   "metadata": {},
   "outputs": [],
   "source": [
    "year=2022\n",
    "print(f\"Calculating QB performance metrics for {year}...\")\n",
    "\n",
    "# Get all FBS teams\n",
    "fbs_teams = dr.get_fbs_teams(season=year)\n",
    "team_names = fbs_teams['school'].tolist()\n",
    "# team_names = ['Michigan']\n",
    "\n",
    "def process_team_qb_data(team_name):\n",
    "    print(f\"Processing {team_name} QB data...\")\n",
    "    # Fetch team rosters and find the quarterbacks\n",
    "    team_roster = dr.read_team_roster_csv(team_name, year)\n",
    "    qb_roster = team_roster[team_roster['position'] == 'QB']\n",
    "    if not qb_roster.empty:\n",
    "        # Get player usage data for the QBs\n",
    "        qb_usages = dr.read_qb_usage_csv(team_name)\n",
    "        starting_qbs = qb_usages[qb_usages['id'].isin(qb_roster['id'])].sort_values(by='usage_overall', ascending=False).head(2)\n",
    "\n",
    "        # Determine the starting quarterback(s)\n",
    "        if starting_qbs.empty:\n",
    "            # No dominant starter, get first and second string QBs by usage\n",
    "            starting_qbs = qb_usages.nlargest(1, 'usage_overall')\n",
    "        qb_data = []\n",
    "        for _, starting_qb in starting_qbs.iterrows():\n",
    "            if starting_qb['name'] is not None and starting_qb['team'] is not None:\n",
    "                qb_name = starting_qb['name']\n",
    "                qb_team = starting_qb['team']\n",
    "                qb_df = sqm.get_qb_game_metrics_all_games(qb_name, qb_team, year).fillna(0)\n",
    "                qb_df.to_csv('/Users/djschor/Projects/ncaafb_power_rank/data/qb_performance_2022/' + qb_name + '.csv')\n",
    "                qb_data.append(qb_df)\n",
    "        print(f\"Completed {team_name} QB data\")\n",
    "        return pd.concat(qb_data, ignore_index=True) if qb_data else None\n",
    "    else:\n",
    "        return pd.DataFrame()\n",
    "\n",
    "\n",
    "with ThreadPoolExecutor(max_workers=5) as executor:\n",
    "    futures = [executor.submit(process_team_qb_data, team_name) for team_name in team_names]\n",
    "    results = [future.result() for future in as_completed(futures)]\n",
    "all_qb_data_df = pd.concat(results)\n",
    "\n",
    "# save player names to meta collection gcp \n",
    "qb_names = all_qb_data_df['player'].unique().tolist()\n",
    "gutils.save_data_to_firestore_id({'qbs': qb_names}, gutils.get_firestore_client_db(), 'meta', 'qbs')\n",
    "\n",
    "# Calculate relative metrics for each QB\n",
    "relative_qb_metrics = sqm.calculate_qb_relative_metrics(all_qb_data_df)\n",
    "\n",
    "# Get the list of unique weeks in the DataFrame\n",
    "unique_weeks = relative_qb_metrics['week'].unique()\n",
    "\n",
    "# Execute calculate_qb_week_competitive_metrics concurrently using a ThreadPoolExecutor\n",
    "with ThreadPoolExecutor(max_workers=5) as executor:\n",
    "    week_competitive_metrics_futures = [executor.submit(functools.partial(sqm.calculate_qb_week_competitive_metrics, relative_qb_metrics), week) for week in unique_weeks]\n",
    "\n",
    "    week_competitive_metrics = []\n",
    "    for future in as_completed(week_competitive_metrics_futures):\n",
    "        week_competitive_metrics.append(future.result())\n",
    "\n",
    "competitive_qb_metrics_df = pd.concat(week_competitive_metrics)\n",
    "\n",
    "# Calculate the total defense score\n",
    "qb_df = sqm.score_qb_total(competitive_qb_metrics_df)\n",
    "\n",
    "# Save the data to a GCP collection called \"qb_performance\"\n",
    "print(\"Saving QB performance metrics to GCP...\")\n",
    "qb_df['pk'] = qb_df['player'] + '_' + qb_df['week'].astype(str) + '_' + qb_df['year'].astype(str)"
   ]
  },
  {
   "cell_type": "code",
   "execution_count": null,
   "metadata": {},
   "outputs": [],
   "source": [
    "qb_df['pk']"
   ]
  },
  {
   "cell_type": "code",
   "execution_count": null,
   "metadata": {},
   "outputs": [],
   "source": [
    "gutils.batch_save_data_firestore(qb_df.reset_index(drop=True), \"qb\", 'pk')\n"
   ]
  },
  {
   "cell_type": "code",
   "execution_count": null,
   "metadata": {},
   "outputs": [],
   "source": [
    "gutils.query_firestore_general('qb_weekly_rankings_2022', 'C.J. Stroud_1_2022')"
   ]
  },
  {
   "cell_type": "code",
   "execution_count": null,
   "metadata": {},
   "outputs": [],
   "source": []
  },
  {
   "cell_type": "code",
   "execution_count": null,
   "metadata": {},
   "outputs": [],
   "source": [
    "get_qb_by_name('C.J. Stroud')"
   ]
  },
  {
   "cell_type": "code",
   "execution_count": null,
   "metadata": {},
   "outputs": [],
   "source": [
    "import pandas as pd\n",
    "from typing import List\n",
    "\n",
    "def calculate_save_overall_qb_rankings(qb_df):\n",
    "\n",
    "    # Get list of QBs from the meta collection\n",
    "    # qbs = gutils.query_firestore_general('meta', f\"qbs\")['qbs']\n",
    "    qbs = qb_df.player.unique().tolist()\n",
    "    overall_qb_rankings = []\n",
    "\n",
    "    for qb in qbs:\n",
    "        print(f\"Calculating avg QB rankings for {qb}...\")\n",
    "\n",
    "        # Get weekly QB performance data for the specified year\n",
    "        # qb_performance_data = gutils.query_firestore_player_data('qb', qb, year)\n",
    "        qb_performance_data = qb_df[qb_df.player==qb]\n",
    "        if not qb_performance_data.empty:\n",
    "            # Calculate the average QB total score and competitive score for the season\n",
    "            qb_total_scores = [row['qb_total_score'] for _, row in qb_performance_data.iterrows()]\n",
    "            qb_competitive_scores = [row['qb_competitive_score'] for _, row in qb_performance_data.iterrows()]\n",
    "            avg_qb_total_score = sum(qb_total_scores) / len(qb_total_scores)\n",
    "            avg_qb_competitive_score = sum(qb_competitive_scores) / len(qb_competitive_scores)\n",
    "\n",
    "            overall_qb_rankings.append({\n",
    "                'player': qb,\n",
    "                'year': year,\n",
    "                'avg_qb_total_score': avg_qb_total_score,\n",
    "                'avg_qb_competitive_score': avg_qb_competitive_score\n",
    "            })\n",
    "\n",
    "    # Convert the list of dictionaries to a DataFrame\n",
    "    overall_qb_rankings_df = pd.DataFrame(overall_qb_rankings)\n",
    "\n",
    "    # Calculate the rankings based on the average QB total score and competitive score\n",
    "    overall_qb_rankings_df['total_score_rank'] = overall_qb_rankings_df['avg_qb_total_score'].rank(ascending=False)\n",
    "    overall_qb_rankings_df['competitive_score_rank'] = overall_qb_rankings_df['avg_qb_competitive_score'].rank(ascending=False)\n",
    "\n",
    "    # Save the overall QB rankings to Firestore\n",
    "    gutils.batch_save_data_firestore(overall_qb_rankings_df, f\"qb_overall_rankings_{year}\", id='player')\n",
    "    print(f\"Saved overall QB rankings for {year} to Firestore.\")\n",
    "    return\n",
    "\n",
    "\n",
    "def calculate_save_weekly_qb_rankings(qb_df):\n",
    "    weeks = qb_df['week'].unique().tolist()\n",
    "    # Iterate through weeks\n",
    "    for week in weeks:  # Assuming a 15-week season\n",
    "        # Filter the all_qb_data DataFrame for the specified week\n",
    "        weekly_qb_data = qb_df[qb_df['week'] == week]\n",
    "\n",
    "        # Check if weekly_qb_data is not empty before calculating rankings\n",
    "        if not weekly_qb_data.empty:\n",
    "            # Calculate the rankings based on the QB total score and competitive score for the week\n",
    "            weekly_qb_data.loc[:, 'total_score_week_rank'] = weekly_qb_data['qb_total_score'].rank(ascending=False)\n",
    "            weekly_qb_data.loc[:, 'competitive_score_week_rank'] = weekly_qb_data['qb_competitive_score'].rank(ascending=False)\n",
    "\n",
    "            # Save the weekly QB rankings to Firestore\n",
    "            gutils.batch_save_data_firestore(weekly_qb_data, f\"qb_weekly_rankings_{year}\", id='pk')\n",
    "        else:\n",
    "            print(f\"No QB data available for week {week}.\")\n",
    "\n",
    "def drive_weekly_and_overall_qb_rankings(qb_df):\n",
    "    calculate_save_overall_qb_rankings(qb_df)\n",
    "    calculate_save_weekly_qb_rankings(qb_df)\n",
    "    print(f\"Saved weekly and overall QB rankings for {year} to Firestore.\")\n",
    "    return\n",
    "\n",
    "\n",
    "def get_top_qbs_overall(top_x, field='avg_qb_total_score'):\n",
    "    \"\"\"\n",
    "    Queries Firestore collection \"qb_overall_rankings_2022\" and returns the top X QBs based on the specified field.\n",
    "\n",
    "    Args:\n",
    "        top_x (int): The number of top QBs to return.\n",
    "        field (str): The field name to sort the QBs by (e.g., 'avg_qb_competitive_score', 'avg_qb_total_score', 'competitive_score_rank', or 'total_score_rank').\n",
    "\n",
    "    Returns:\n",
    "        List[dict]: List of dictionaries containing top X QBs data.\n",
    "    \"\"\"\n",
    "    if field not in {'avg_qb_competitive_score', 'avg_qb_total_score', 'competitive_score_rank', 'total_score_rank'}:\n",
    "        raise ValueError(\"Invalid field. Valid fields are: 'avg_qb_competitive_score', 'avg_qb_total_score', 'competitive_score_rank', and 'total_score_rank'.\")\n",
    "\n",
    "    collection_name = \"qb_overall_rankings_2022\"\n",
    "\n",
    "    # Initialize Firestore client\n",
    "    db = gutils.get_firestore_client_db()\n",
    "\n",
    "    # Query the Firestore collection, order by the specified field, and limit the results to top X\n",
    "    query = db.collection(collection_name).order_by(field, direction=firestore.Query.DESCENDING if field.startswith('avg_') else firestore.Query.ASCENDING).limit(top_x).stream()\n",
    "\n",
    "    # Retrieve all documents from the query\n",
    "    top_qbs = [doc.to_dict() for doc in query]\n",
    "\n",
    "    return top_qbs\n",
    "\n",
    "def get_top_qbs_by_week(week, top_x):\n",
    "    \"\"\"\n",
    "    Queries Firestore collection \"qb_weekly_rankings_2022\" and returns the top X QBs by week.\n",
    "    \n",
    "    Args:\n",
    "        week (int): The week number to filter results.\n",
    "        top_x (int): The number of top QBs to return.\n",
    "\n",
    "    Returns:\n",
    "        List[dict]: List of dictionaries containing top X QBs data.\n",
    "    \"\"\"\n",
    "    collection_name = \"qb_weekly_rankings_2022\"\n",
    "\n",
    "    # Initialize Firestore client\n",
    "    db = gutils.get_firestore_client_db()\n",
    "\n",
    "    # Query the Firestore collection for documents with the specified week and order by qb_total_score\n",
    "    query = db.collection(collection_name).where(\"week\", \"==\", week).order_by(\"qb_total_score\", direction=firestore.Query.DESCENDING).limit(top_x).stream()\n",
    "\n",
    "    # Retrieve all documents from the query\n",
    "    top_qbs = [doc.to_dict() for doc in query]\n",
    "\n",
    "    return pd.DataFrame(top_qbs)\n",
    "\n",
    "\n",
    "# Example usage:\n",
    "# top_5_qbs = get_top_qbs_by_week(12, 5)\n",
    "# top_5_qbs\n",
    "\n",
    "get_top_qbs_overall(5)"
   ]
  },
  {
   "cell_type": "code",
   "execution_count": null,
   "metadata": {},
   "outputs": [],
   "source": [
    "i have a firestore collection called qb_overall_rankings_2022 where documents are formatted with the identifier <qb name>. The items in the document are formatted like: avg_qb_competitive_score:73, avg_qb_total_score: 66, competitive_score_rank:140, player:\"AJ Mayer\",total_score_rank:142,year:2022. please create a function to query the collection and return the collection to get the top x qbs by avg_qb_competitive_score\n",
    ",avg_qb_total_score, competitive_score_rank, or total_score_rank\n"
   ]
  },
  {
   "cell_type": "code",
   "execution_count": null,
   "metadata": {},
   "outputs": [],
   "source": [
    "{avg_qb_competitive_score:73, avg_qb_total_score: 66, competitive_score_rank:140, player:\"AJ Mayer\",total_score_rank:142,year:2022}"
   ]
  },
  {
   "cell_type": "code",
   "execution_count": null,
   "metadata": {},
   "outputs": [],
   "source": [
    "query_overall_qb_rankings(2022)"
   ]
  },
  {
   "cell_type": "code",
   "execution_count": null,
   "metadata": {},
   "outputs": [],
   "source": [
    "all_qb_data[all_qb_data['week'] == 1]"
   ]
  },
  {
   "cell_type": "code",
   "execution_count": null,
   "metadata": {},
   "outputs": [],
   "source": [
    "qb_performance_data = pd.DataFrame(gutils.query_firestore_player_data('qb', 'Hendon Hooker', year))"
   ]
  },
  {
   "cell_type": "code",
   "execution_count": null,
   "metadata": {},
   "outputs": [],
   "source": [
    "from concurrent.futures import ThreadPoolExecutor\n",
    "import functools\n",
    "import pandas as pd\n",
    "\n",
    "year = 2022\n",
    "qbs = gutils.query_firestore_general('meta', f\"qbs\")['qbs']\n",
    "\n",
    "def fetch_qb_data(year, qb):\n",
    "    qb_performance_data = pd.DataFrame(gutils.query_firestore_player_data('qb', qb, year))  # Replaced with the correct `qb`\n",
    "    \n",
    "    if qb_performance_data is not None and not qb_performance_data.empty:\n",
    "        print(f\"QB: {qb}, Good\")\n",
    "        return qb_performance_data\n",
    "    return None\n",
    "\n",
    "# Get all QB performance data for the specified year and concatenate into a single DataFrame\n",
    "with ThreadPoolExecutor() as executor:\n",
    "    qb_data_frames = [df for df in executor.map(functools.partial(fetch_qb_data, year), qbs) if df is not None]\n",
    "\n",
    "# Ensure there is at least one DataFrame in qb_data_frames before concatenating\n",
    "if qb_data_frames:\n",
    "    all_qb_data = pd.concat(qb_data_frames)\n",
    "\n",
    "   \n",
    "else:\n",
    "    print(\"No QB data available for concatenation.\")\n",
    "\n"
   ]
  },
  {
   "cell_type": "code",
   "execution_count": null,
   "metadata": {},
   "outputs": [],
   "source": [
    "calculate_save_weekly_qb_rankings(2022)"
   ]
  },
  {
   "cell_type": "code",
   "execution_count": null,
   "metadata": {},
   "outputs": [],
   "source": [
    "Based on the qb scoring functions and data saved in the qb database for 2022 qb performance, create functions for the following: \n",
    "1. calculate_save_overall_qb_rankings, averages the weekly qb performance scores to get the scores and rankings for each quarterback over the whole season. once all qbs are calculated, save the results a firestore collection called qb_overall_rankings_2022\n",
    "2. calculate_weekly_qb_rankings, for each week in the season, get all qbs who performed and get scores and rankings for the qbs that week . once all qbs are calculated, save the results a firestore collection called qb_weekly_rankings_2022\n",
    "3. query functions corresponding to the qb overall and weekly collections saved in the two previous functions \n",
    "4. query functions to get rankings by conference for the year\n",
    "\n",
    "Here are the rules to remember: \n",
    "1. Make sure to use football gutils functions as applicable\n",
    "2. the qb performance data is located in the collection 'qb' and can be accessed with the function query_firestore_player_data\n",
    "Here is that function again:\n",
    "def query_firestore_player_data(collection_name, player_name, year):\n",
    "    try:\n",
    "        # Initialize Firestore client\n",
    "        db = gutils.get_firestore_client_db()\n",
    "\n",
    "        # Get the collection reference\n",
    "        collection_ref = db.collection(collection_name)\n",
    "\n",
    "        # Query the collection for documents with the specified player name and year\n",
    "        query = collection_ref.where('player', '==', player_name).where('year', '==', year)\n",
    "        docs = query.stream()\n",
    "\n",
    "        results = []\n",
    "        for doc in docs:\n",
    "            if doc.exists:\n",
    "                results.append(doc.to_dict())\n",
    "\n",
    "        if not results:\n",
    "            print(f\"No documents found in {collection_name} for player {player_name} and year {year}\")\n",
    "            return None\n",
    "\n",
    "        return results\n",
    "\n",
    "    except Exception as e:\n",
    "        print(f\"Error querying {collection_name} for player {player_name} and year {year}: {e}\")\n",
    "       \n",
    "\n",
    "3. the new functions should save to qb_weekly_rankings_2022 and qb_overall_rankings_2022 collections \n",
    "4. there is no collection named f\"qb_performance_{year}\". To get a list of all qbs query the meta collection for the qbs id, or to get a specific team's qbs during a year then query the meta table for the id <team>_<year>\n",
    "5. Make sure to follow the gutils functions accurately. Here they are again. It is of the UTMOST IMPORTANCE you do not get the function names wrong. They are all to be imported with gutils.<function>. Here are the functions again: \n",
    "6. Make sure to adhere to the data in the gcp collections accurately. Do not assume. If you do not know, ask me. Here is what the query_firestore_player_data function returns for JJ Mccarthy in 2022. I am sending it to you in to_dict('records') format so you can read it but assume that the function returns it in DATAFRAME FORMAT! Here is the data: [{'sei': 8.0, 'reer_competitive_rank': 12.0, 'year': 2022, 'qb_total_score': 73.49521783101324, 'qb_relative_score': 71.69927976481077, 'reer': 60.0, 'tid': 0.0, 'dmi': 0.8571428571428571, 'bpr': 6.451612903225806, 'defense_score_relative_rank': 8.0, 'qb_total_rank': 648.0, 'pk': 'J.J. McCarthy_10_2022', 'defense_score_competitive_rank': 109.0, 'tid_competitive_rank': 123.0, 'team': 'Michigan', 'dmi_competitive_rank': 51.0, 'player': 'J.J. McCarthy', 'crae': -0.24112305949580154, 'qpi': 1.5370370370370372, 'crae_relative_rank': 7.0, 'aqs_relative_rank': 7.0, 'dmi_relative_rank': 8.0, 'bpr_relative_rank': 8.0, 'defense_score': 51.9787115298463, 'qpi_relative_rank': 9.0, 'week': 10, 'qpi_competitive_rank': 73.0, 'crae_competitive_rank': 108.0, 'sei_relative_rank': 2.0, 'bpr_competitive_rank': 62.0, 'sei_competitive_rank': 25.0, 'qb_competitive_score': 75.21591937270145, 'tid_relative_rank': 9.0, 'aqs': 0.5138888888888888, 'reer_relative_rank': 2.0, 'aqs_competitive_rank': 51.0}, {'sei': 0.0, 'reer_competitive_rank': 7.0, 'year': 2022, 'qb_total_score': 80.58947187293148, 'qb_relative_score': 72.24474687653978, 'reer': 100.0, 'tid': 0.0, 'dmi': 0.6, 'bpr': 10.0, 'defense_score_relative_rank': 4.0, 'qb_total_rank': 257.0, 'pk': 'J.J. McCarthy_11_2022', 'defense_score_competitive_rank': 58.0, 'tid_competitive_rank': 123.0, 'team': 'Michigan', 'dmi_competitive_rank': 86.0, 'player': 'J.J. McCarthy', 'crae': -0.32279666500174387, 'qpi': 1.6176470588235294, 'crae_relative_rank': 9.0, 'aqs_relative_rank': 4.0, 'dmi_relative_rank': 9.0, 'bpr_relative_rank': 6.0, 'defense_score': 54.48354547212146, 'qpi_relative_rank': 8.0, 'week': 11, 'qpi_competitive_rank': 61.0, 'crae_competitive_rank': 116.0, 'sei_relative_rank': 8.0, 'bpr_competitive_rank': 30.0, 'sei_competitive_rank': 120.0, 'qb_competitive_score': 78.48699525176522, 'tid_relative_rank': 9.0, 'aqs': 0.6470588235294118, 'reer_relative_rank': 1.0, 'aqs_competitive_rank': 14.0}]\n"
   ]
  },
  {
   "cell_type": "code",
   "execution_count": null,
   "metadata": {},
   "outputs": [],
   "source": [
    "jj = pd.DataFrame(gutils.query_firestore_player_data('qb', 'J.J. McCarthy', 2022))"
   ]
  },
  {
   "cell_type": "code",
   "execution_count": null,
   "metadata": {},
   "outputs": [],
   "source": [
    "jj"
   ]
  },
  {
   "cell_type": "code",
   "execution_count": null,
   "metadata": {},
   "outputs": [],
   "source": [
    "print(jj.head(2).to_dict('records'))"
   ]
  },
  {
   "cell_type": "code",
   "execution_count": null,
   "metadata": {},
   "outputs": [],
   "source": [
    "jj.columns"
   ]
  },
  {
   "cell_type": "code",
   "execution_count": null,
   "metadata": {},
   "outputs": [],
   "source": [
    "jj['week']"
   ]
  },
  {
   "cell_type": "code",
   "execution_count": null,
   "metadata": {},
   "outputs": [],
   "source": [
    "collection_name, name, week, year = 'qb', 'J.J. McCarthy', 1, 2022\n",
    "pk = '{}_{}_{}'.format(name, week, year)\n",
    "# pk = 'AJ Mayer_11_2022'\n",
    "df = query_firestore_general('qb', pk)"
   ]
  },
  {
   "cell_type": "code",
   "execution_count": null,
   "metadata": {},
   "outputs": [],
   "source": [
    "df"
   ]
  },
  {
   "cell_type": "code",
   "execution_count": null,
   "metadata": {},
   "outputs": [],
   "source": [
    "collection_name, name, week, year = 'qb', 'J.J. McCarthy', 1, 2022\n",
    "name = query_firestore_general('meta', 'Michigan_2022')['player'][0]\n",
    "db = gutils.get_firestore_client_db()\n",
    "pk = f\"{name}_{week}_{year}\"\n",
    "# Define a function to query data for collections with the new document ID format\n",
    "def query_new_id_format(collection, start_date=None, end_date=None):\n",
    "    if start_date and end_date:\n",
    "        query = collection.where('pk', '==', pk).where('date', '>=', start_date).where('date', '<=', end_date)\n",
    "    else:\n",
    "        query = collection.where('pk', '==', pk)\n",
    "\n",
    "    docs = query.stream()\n",
    "    return {doc.id: doc.to_dict() for doc in docs}\n",
    "\n",
    "# Get the collection reference\n",
    "collection_ref = db.collection(collection_name)\n",
    "\n",
    "doc_ref = collection_ref.document(pk)\n",
    "df =  doc_ref.get().to_dict() "
   ]
  },
  {
   "cell_type": "code",
   "execution_count": null,
   "metadata": {},
   "outputs": [],
   "source": [
    "df"
   ]
  },
  {
   "cell_type": "code",
   "execution_count": null,
   "metadata": {},
   "outputs": [],
   "source": [
    "gutils.query_firestore_player('qb', 'J.J. McCarthy', 1, 2022)"
   ]
  },
  {
   "cell_type": "markdown",
   "metadata": {},
   "source": [
    "### Preprocessing:\n",
    " - Clean and preprocess the collected data.\n",
    " - Handle missing values, outliers, and convert categorical data into numerical form.\n"
   ]
  },
  {
   "cell_type": "code",
   "execution_count": null,
   "metadata": {},
   "outputs": [],
   "source": [
    "\n",
    "# Convert the data into a DataFrame\n",
    "team_df = pd.DataFrame(teams)\n",
    "\n",
    "# Drop unnecessary columns\n",
    "team_df = team_df.drop(columns=['id', 'abbreviation'])\n",
    "\n",
    "# Encode categorical columns\n",
    "team_df['conference'] = team_df['conference'].astype('category')\n",
    "team_df['conference_code'] = team_df['conference'].cat.codes"
   ]
  },
  {
   "cell_type": "markdown",
   "metadata": {},
   "source": [
    "### Feature Engineering:\n",
    " - Create new features from existing data.\n",
    " - Normalize or standardize the data if required.\n"
   ]
  },
  {
   "cell_type": "code",
   "execution_count": null,
   "metadata": {},
   "outputs": [],
   "source": [
    "# Example: Add winning percentage\n",
    "team_df['winning_percentage'] = team_df['wins'] / (team_df['wins'] + team_df['losses'])\n",
    "\n",
    "# Standardize numerical features\n",
    "from sklearn.preprocessing import StandardScaler\n",
    "\n",
    "scaler = StandardScaler()\n",
    "team_df[['wins', 'losses', 'winning_percentage']] = scaler.fit_transform(team_df[['wins', 'losses', 'winning_percentage']])\n"
   ]
  },
  {
   "attachments": {},
   "cell_type": "markdown",
   "metadata": {},
   "source": [
    "### Model Training:\n",
    " - Train a machine learning model to rank teams based on their features.\n",
    " - Example: Use a clustering algorithm like KMeans to group similar teams together.\n"
   ]
  },
  {
   "cell_type": "code",
   "execution_count": null,
   "metadata": {},
   "outputs": [],
   "source": [
    "from sklearn.cluster import KMeans\n",
    "\n",
    "# Select features for clustering\n",
    "features = ['conference_code', 'wins', 'losses', 'winning_percentage']\n",
    "X = team_df[features]\n",
    "\n",
    "# Train KMeans model\n",
    "kmeans = KMeans(n_clusters=5, random_state=42)\n",
    "kmeans.fit(X)\n",
    "\n",
    "# Add cluster labels to DataFrame\n",
    "team_df['cluster'] = kmeans.labels_\n"
   ]
  }
 ],
 "metadata": {
  "kernelspec": {
   "display_name": "haystack-ml",
   "language": "python",
   "name": "python3"
  },
  "language_info": {
   "codemirror_mode": {
    "name": "ipython",
    "version": 3
   },
   "file_extension": ".py",
   "mimetype": "text/x-python",
   "name": "python",
   "nbconvert_exporter": "python",
   "pygments_lexer": "ipython3",
   "version": "3.9.16"
  },
  "orig_nbformat": 4,
  "vscode": {
   "interpreter": {
    "hash": "87513510bf24a10b4cce100587abd7f5806fca194f5a880f63799b03ef7af144"
   }
  }
 },
 "nbformat": 4,
 "nbformat_minor": 2
}
